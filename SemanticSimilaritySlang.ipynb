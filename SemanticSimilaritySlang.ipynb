{
  "nbformat": 4,
  "nbformat_minor": 0,
  "metadata": {
    "colab": {
      "name": "Copy of NLP2.ipynb",
      "provenance": [],
      "collapsed_sections": []
    },
    "kernelspec": {
      "name": "python3",
      "display_name": "Python 3"
    },
    "language_info": {
      "name": "python"
    }
  },
  "cells": [
    {
      "cell_type": "markdown",
      "source": [
        "upload mrpc_slang.json and mrpc_normal.txt"
      ],
      "metadata": {
        "id": "BW63CDmUUGzh"
      }
    },
    {
      "cell_type": "code",
      "source": [
        "from google.colab import files\n",
        "uploaded = files.upload()"
      ],
      "metadata": {
        "colab": {
          "resources": {
            "http://localhost:8080/nbextensions/google.colab/files.js": {
              "data": "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",
              "ok": true,
              "headers": [
                [
                  "content-type",
                  "application/javascript"
                ]
              ],
              "status": 200,
              "status_text": "OK"
            }
          },
          "base_uri": "https://localhost:8080/",
          "height": 110
        },
        "id": "nH03BHVpLC8w",
        "outputId": "f8824753-a02e-4b99-e07a-64c6cf5d6789"
      },
      "execution_count": null,
      "outputs": [
        {
          "output_type": "display_data",
          "data": {
            "text/plain": [
              "<IPython.core.display.HTML object>"
            ],
            "text/html": [
              "\n",
              "     <input type=\"file\" id=\"files-a92a98cc-f2e5-40a6-9590-b670f4132dda\" name=\"files[]\" multiple disabled\n",
              "        style=\"border:none\" />\n",
              "     <output id=\"result-a92a98cc-f2e5-40a6-9590-b670f4132dda\">\n",
              "      Upload widget is only available when the cell has been executed in the\n",
              "      current browser session. Please rerun this cell to enable.\n",
              "      </output>\n",
              "      <script src=\"/nbextensions/google.colab/files.js\"></script> "
            ]
          },
          "metadata": {}
        },
        {
          "output_type": "stream",
          "name": "stdout",
          "text": [
            "Saving mrpc.json to mrpc.json\n",
            "Saving mrpc_1.txt to mrpc_1.txt\n"
          ]
        }
      ]
    },
    {
      "cell_type": "markdown",
      "source": [
        "Install and import Packages "
      ],
      "metadata": {
        "id": "qvryxKIXUWSc"
      }
    },
    {
      "cell_type": "code",
      "execution_count": null,
      "metadata": {
        "id": "ykfl0mT888pd",
        "colab": {
          "base_uri": "https://localhost:8080/"
        },
        "outputId": "e7fe123e-4e81-4cc8-c76a-954274dc3519"
      },
      "outputs": [
        {
          "output_type": "stream",
          "name": "stdout",
          "text": [
            "\u001b[K     |████████████████████████████████| 4.9 MB 9.7 MB/s \n",
            "\u001b[K     |████████████████████████████████| 1.1 MB 7.3 MB/s \n",
            "\u001b[K     |████████████████████████████████| 47.8 MB 1.2 MB/s \n",
            "\u001b[K     |████████████████████████████████| 99 kB 8.9 MB/s \n",
            "\u001b[K     |████████████████████████████████| 1.1 MB 58.3 MB/s \n",
            "\u001b[K     |████████████████████████████████| 596 kB 55.6 MB/s \n",
            "\u001b[K     |████████████████████████████████| 237 kB 73.6 MB/s \n",
            "\u001b[K     |████████████████████████████████| 352 kB 73.7 MB/s \n",
            "\u001b[K     |████████████████████████████████| 43 kB 1.8 MB/s \n",
            "\u001b[K     |████████████████████████████████| 1.2 MB 57.4 MB/s \n",
            "\u001b[?25h  Building wheel for py-cpuinfo (setup.py) ... \u001b[?25l\u001b[?25hdone\n",
            "  Building wheel for seqeval (setup.py) ... \u001b[?25l\u001b[?25hdone\n"
          ]
        }
      ],
      "source": [
        "!pip install -q -U \"tensorflow-text==2.8.*\"\n",
        "!pip install -q tf-models-official==2.4.0"
      ]
    },
    {
      "cell_type": "code",
      "source": [
        "import os\n",
        "\n",
        "import numpy as np\n",
        "import matplotlib.pyplot as plt\n",
        "\n",
        "import tensorflow as tf\n",
        "\n",
        "import tensorflow_hub as hub\n",
        "import tensorflow_datasets as tfds\n",
        "tfds.disable_progress_bar()\n",
        "\n",
        "from official.modeling import tf_utils\n",
        "from official import nlp\n",
        "from official.nlp import bert\n",
        "\n",
        "# Load the required submodules\n",
        "import official.nlp.optimization\n",
        "import official.nlp.bert.bert_models\n",
        "import official.nlp.bert.configs\n",
        "import official.nlp.bert.run_classifier\n",
        "import official.nlp.bert.tokenization\n",
        "import official.nlp.data.classifier_data_lib\n",
        "import official.nlp.modeling.losses\n",
        "import official.nlp.modeling.models\n",
        "import official.nlp.modeling.networks\n"
      ],
      "metadata": {
        "id": "S8cI_gut9XZ1"
      },
      "execution_count": null,
      "outputs": []
    },
    {
      "cell_type": "markdown",
      "source": [
        "Load BERT and install mrpc dataset"
      ],
      "metadata": {
        "id": "HpNlJwgRUcCG"
      }
    },
    {
      "cell_type": "code",
      "source": [
        "gs_folder_bert = \"gs://cloud-tpu-checkpoints/bert/v3/uncased_L-12_H-768_A-12\"\n",
        "tf.io.gfile.listdir(gs_folder_bert)"
      ],
      "metadata": {
        "colab": {
          "base_uri": "https://localhost:8080/"
        },
        "id": "165Q7GUD9eOB",
        "outputId": "328f32d7-f9c5-4aeb-9616-8135f126b737"
      },
      "execution_count": null,
      "outputs": [
        {
          "output_type": "execute_result",
          "data": {
            "text/plain": [
              "['bert_config.json',\n",
              " 'bert_model.ckpt.data-00000-of-00001',\n",
              " 'bert_model.ckpt.index',\n",
              " 'vocab.txt']"
            ]
          },
          "metadata": {},
          "execution_count": 4
        }
      ]
    },
    {
      "cell_type": "code",
      "source": [
        "hub_url_bert = \"https://tfhub.dev/tensorflow/bert_en_uncased_L-12_H-768_A-12/3\""
      ],
      "metadata": {
        "id": "KaJ8exgn9hPx"
      },
      "execution_count": null,
      "outputs": []
    },
    {
      "cell_type": "code",
      "source": [
        "glue, info = tfds.load('glue/mrpc', with_info=True,\n",
        "                       # It's small, load the whole dataset\n",
        "                       batch_size=-1)"
      ],
      "metadata": {
        "id": "luUaI6Uh9kus",
        "colab": {
          "base_uri": "https://localhost:8080/"
        },
        "outputId": "b7c20b74-f2d4-42e6-a27d-c3886ec0c975"
      },
      "execution_count": null,
      "outputs": [
        {
          "output_type": "stream",
          "name": "stdout",
          "text": [
            "\u001b[1mDownloading and preparing dataset glue/mrpc/1.0.0 (download: 1.43 MiB, generated: Unknown size, total: 1.43 MiB) to /root/tensorflow_datasets/glue/mrpc/1.0.0...\u001b[0m\n",
            "Shuffling and writing examples to /root/tensorflow_datasets/glue/mrpc/1.0.0.incompleteSVZB5D/glue-train.tfrecord\n",
            "Shuffling and writing examples to /root/tensorflow_datasets/glue/mrpc/1.0.0.incompleteSVZB5D/glue-validation.tfrecord\n",
            "Shuffling and writing examples to /root/tensorflow_datasets/glue/mrpc/1.0.0.incompleteSVZB5D/glue-test.tfrecord\n",
            "\u001b[1mDataset glue downloaded and prepared to /root/tensorflow_datasets/glue/mrpc/1.0.0. Subsequent calls will reuse this data.\u001b[0m\n",
            "WARNING:tensorflow:From /usr/local/lib/python3.7/dist-packages/tensorflow_datasets/core/dataset_builder.py:598: get_single_element (from tensorflow.python.data.experimental.ops.get_single_element) is deprecated and will be removed in a future version.\n",
            "Instructions for updating:\n",
            "Use `tf.data.Dataset.get_single_element()`.\n"
          ]
        },
        {
          "output_type": "stream",
          "name": "stderr",
          "text": [
            "WARNING:tensorflow:From /usr/local/lib/python3.7/dist-packages/tensorflow_datasets/core/dataset_builder.py:598: get_single_element (from tensorflow.python.data.experimental.ops.get_single_element) is deprecated and will be removed in a future version.\n",
            "Instructions for updating:\n",
            "Use `tf.data.Dataset.get_single_element()`.\n"
          ]
        }
      ]
    },
    {
      "cell_type": "markdown",
      "source": [
        "Prepare tokenizer and encoder"
      ],
      "metadata": {
        "id": "NxVV-XqsT96i"
      }
    },
    {
      "cell_type": "code",
      "source": [
        "# Set up tokenizer to generate Tensorflow dataset\n",
        "tokenizer = bert.tokenization.FullTokenizer(\n",
        "    vocab_file=os.path.join(gs_folder_bert, \"vocab.txt\"),\n",
        "     do_lower_case=True)\n",
        "\n",
        "print(\"Vocab size:\", len(tokenizer.vocab))"
      ],
      "metadata": {
        "colab": {
          "base_uri": "https://localhost:8080/"
        },
        "id": "d2-pXu-o9x8k",
        "outputId": "0b95e7c1-0799-417f-b2a2-c8c3e653335d"
      },
      "execution_count": null,
      "outputs": [
        {
          "output_type": "stream",
          "name": "stdout",
          "text": [
            "Vocab size: 30522\n"
          ]
        }
      ]
    },
    {
      "cell_type": "code",
      "source": [
        "tokens = tokenizer.tokenize(\"Hello Tensorflow!\")\n",
        "print(tokens)\n",
        "ids = tokenizer.convert_tokens_to_ids(tokens)\n",
        "print(ids)"
      ],
      "metadata": {
        "colab": {
          "base_uri": "https://localhost:8080/"
        },
        "id": "tWxs18zp90Rx",
        "outputId": "dc5a1c7d-948d-403f-ea55-fd367780eb21"
      },
      "execution_count": null,
      "outputs": [
        {
          "output_type": "stream",
          "name": "stdout",
          "text": [
            "['hello', 'tensor', '##flow', '!']\n",
            "[7592, 23435, 12314, 999]\n"
          ]
        }
      ]
    },
    {
      "cell_type": "code",
      "source": [
        "def encode_sentence(s, tokenizer):\n",
        "   tokens = list(tokenizer.tokenize(s))\n",
        "   tokens.append('[SEP]')\n",
        "   return tokenizer.convert_tokens_to_ids(tokens)\n",
        "\n",
        "def bert_encode(glue_dict, tokenizer):\n",
        "  num_examples = len(glue_dict[\"sentence1\"])\n",
        "\n",
        "  sentence1 = tf.ragged.constant([\n",
        "      encode_sentence(s, tokenizer)\n",
        "      for s in np.array(glue_dict[\"sentence1\"])])\n",
        "  sentence2 = tf.ragged.constant([\n",
        "      encode_sentence(s, tokenizer)\n",
        "       for s in np.array(glue_dict[\"sentence2\"])])\n",
        "\n",
        "  cls = [tokenizer.convert_tokens_to_ids(['[CLS]'])]*sentence1.shape[0]\n",
        "  input_word_ids = tf.concat([cls, sentence1, sentence2], axis=-1)\n",
        "\n",
        "  input_mask = tf.ones_like(input_word_ids).to_tensor()\n",
        "\n",
        "  type_cls = tf.zeros_like(cls)\n",
        "  type_s1 = tf.zeros_like(sentence1)\n",
        "  type_s2 = tf.ones_like(sentence2)\n",
        "  input_type_ids = tf.concat(\n",
        "      [type_cls, type_s1, type_s2], axis=-1).to_tensor()\n",
        "\n",
        "  inputs = {\n",
        "      'input_word_ids': input_word_ids.to_tensor(),\n",
        "      'input_mask': input_mask,\n",
        "      'input_type_ids': input_type_ids}\n",
        "\n",
        "  return inputs\n"
      ],
      "metadata": {
        "id": "4Dau_MTD94ur"
      },
      "execution_count": null,
      "outputs": []
    },
    {
      "cell_type": "markdown",
      "source": [
        "Create dictionary of normal to slang "
      ],
      "metadata": {
        "id": "eSpFnb6nT2vP"
      }
    },
    {
      "cell_type": "code",
      "source": [
        "import json\n",
        "import copy"
      ],
      "metadata": {
        "id": "KJERk446LLd3"
      },
      "execution_count": null,
      "outputs": []
    },
    {
      "cell_type": "code",
      "source": [
        "# Opening JSON file\n",
        "f = open('mrpc_slang.json')\n",
        "  \n",
        "# returns JSON object as \n",
        "# a dictionary\n",
        "data = json.load(f)\n",
        "# Closing file\n",
        "f.close()"
      ],
      "metadata": {
        "id": "SG8NbvtPLLd4"
      },
      "execution_count": null,
      "outputs": []
    },
    {
      "cell_type": "code",
      "source": [
        "f = open('mrpc_normal.txt')\n",
        "data2=f.read().splitlines()\n",
        "\n",
        "# Closing file\n",
        "f.close()"
      ],
      "metadata": {
        "id": "B7N6Rwp6LLd5"
      },
      "execution_count": null,
      "outputs": []
    },
    {
      "cell_type": "code",
      "source": [
        "normal_to_slang=dict(zip(data2,data))"
      ],
      "metadata": {
        "id": "jq-y2BWSLLd5"
      },
      "execution_count": null,
      "outputs": []
    },
    {
      "cell_type": "markdown",
      "source": [
        "Transform normal to slang"
      ],
      "metadata": {
        "id": "Vos77wVcTyiS"
      }
    },
    {
      "cell_type": "code",
      "source": [
        "sl_train_sen1=tf.constant(np.array([normal_to_slang[s.numpy().decode()] for s in glue[\"train\"][\"sentence1\"]]))\n",
        "\n",
        "sl_train_sen2=tf.constant(np.array([normal_to_slang[s.numpy().decode()] for s in glue[\"train\"][\"sentence2\"]]))\n",
        "\n",
        "sl_val_sen1=tf.constant(np.array([normal_to_slang[s.numpy().decode()] for s in glue[\"validation\"][\"sentence1\"]]))\n",
        "\n",
        "sl_val_sen2=tf.constant(np.array([normal_to_slang[s.numpy().decode()] for s in glue[\"validation\"][\"sentence2\"]]))\n",
        "\n",
        "sl_test_sen1=tf.constant(np.array([normal_to_slang[s.numpy().decode()] for s in glue[\"test\"][\"sentence1\"]]))\n",
        "\n",
        "sl_test_sen2=tf.constant(np.array([normal_to_slang[s.numpy().decode()] for s in glue[\"test\"][\"sentence2\"]]))"
      ],
      "metadata": {
        "id": "li-l-kpXLLd6"
      },
      "execution_count": null,
      "outputs": []
    },
    {
      "cell_type": "code",
      "source": [
        "glue_normal=copy.deepcopy(glue)"
      ],
      "metadata": {
        "id": "QU_Z_W7mNwyT"
      },
      "execution_count": null,
      "outputs": []
    },
    {
      "cell_type": "code",
      "source": [
        "glue_slang=copy.deepcopy(glue)"
      ],
      "metadata": {
        "id": "Z8wp2C7UN7CB"
      },
      "execution_count": null,
      "outputs": []
    },
    {
      "cell_type": "code",
      "source": [
        "glue_mixed=copy.deepcopy(glue)"
      ],
      "metadata": {
        "id": "HnCdFyPmNwnA"
      },
      "execution_count": null,
      "outputs": []
    },
    {
      "cell_type": "markdown",
      "source": [
        "Glue mixed needs many combinations of slang nad normal pairs"
      ],
      "metadata": {
        "id": "fjRbw6giUz5g"
      }
    },
    {
      "cell_type": "code",
      "source": [
        "glue_mixed[\"train\"][\"sentence1\"]=tf.concat([glue[\"train\"][\"sentence1\"],sl_train_sen1,glue[\"train\"][\"sentence1\"],sl_train_sen1],0)\n",
        "\n",
        "glue_mixed[\"train\"][\"sentence2\"]=tf.concat([glue[\"train\"][\"sentence2\"],glue[\"train\"][\"sentence2\"],sl_train_sen2,sl_train_sen2],0)\n",
        "\n",
        "glue_mixed[\"train\"][\"label\"]=tf.concat([glue[\"train\"][\"label\"],glue[\"train\"][\"label\"],glue[\"train\"][\"label\"],glue[\"train\"][\"label\"]],0)\n",
        "\n",
        "glue_mixed[\"validation\"][\"sentence1\"]=tf.concat([glue[\"validation\"][\"sentence1\"],sl_val_sen1,glue[\"validation\"][\"sentence1\"],sl_val_sen1],0)\n",
        "\n",
        "glue_mixed[\"validation\"][\"sentence2\"]=tf.concat([glue[\"validation\"][\"sentence2\"],glue[\"validation\"][\"sentence2\"],sl_val_sen2,sl_val_sen2],0)\n",
        "\n",
        "glue_mixed[\"validation\"][\"label\"]=tf.concat([glue[\"validation\"][\"label\"],glue[\"validation\"][\"label\"],glue[\"validation\"][\"label\"],glue[\"validation\"][\"label\"]],0)\n",
        "\n",
        "glue_mixed[\"test\"][\"sentence1\"]=tf.concat([glue[\"test\"][\"sentence1\"],sl_test_sen1,glue[\"test\"][\"sentence1\"],sl_test_sen1],0)\n",
        "\n",
        "glue_mixed[\"test\"][\"sentence2\"]=tf.concat([glue[\"test\"][\"sentence2\"],glue[\"test\"][\"sentence2\"],sl_test_sen2,sl_test_sen2],0)\n",
        "\n",
        "glue_mixed[\"test\"][\"label\"]=tf.concat([glue[\"test\"][\"label\"],glue[\"test\"][\"label\"],glue[\"test\"][\"label\"],glue[\"test\"][\"label\"]],0)"
      ],
      "metadata": {
        "id": "4xX2HzwkLLd6"
      },
      "execution_count": null,
      "outputs": []
    },
    {
      "cell_type": "code",
      "source": [
        "glue_slang[\"train\"][\"sentence1\"]=sl_train_sen1\n",
        "\n",
        "glue_slang[\"train\"][\"sentence2\"]=sl_train_sen2\n",
        "\n",
        "glue_slang[\"train\"][\"label\"]=glue[\"train\"][\"label\"]\n",
        "\n",
        "glue_slang[\"validation\"][\"sentence1\"]=sl_val_sen1\n",
        "\n",
        "glue_slang[\"validation\"][\"sentence2\"]=sl_val_sen2\n",
        "\n",
        "glue_slang[\"validation\"][\"label\"]=glue[\"validation\"][\"label\"]\n",
        "\n",
        "glue_slang[\"test\"][\"sentence1\"]=sl_test_sen1\n",
        "\n",
        "glue_slang[\"test\"][\"sentence2\"]=sl_test_sen2\n",
        "\n",
        "glue_slang[\"test\"][\"label\"]=glue[\"test\"][\"label\"]"
      ],
      "metadata": {
        "id": "_olM74TsY7qp"
      },
      "execution_count": null,
      "outputs": []
    },
    {
      "cell_type": "code",
      "source": [
        "glue_normal[\"validation\"][\"sentence2\"][0]"
      ],
      "metadata": {
        "colab": {
          "base_uri": "https://localhost:8080/"
        },
        "id": "bKwNy72AaNw4",
        "outputId": "c6fd4f32-254e-406d-8094-8f18b862b87e"
      },
      "execution_count": null,
      "outputs": [
        {
          "output_type": "execute_result",
          "data": {
            "text/plain": [
              "<tf.Tensor: shape=(), dtype=string, numpy=b'The company said this impacted earnings by a penny a share .'>"
            ]
          },
          "metadata": {},
          "execution_count": 20
        }
      ]
    },
    {
      "cell_type": "code",
      "source": [
        "glue_slang[\"validation\"][\"sentence2\"][0]"
      ],
      "metadata": {
        "colab": {
          "base_uri": "https://localhost:8080/"
        },
        "id": "P2KgK4t8Z3Tt",
        "outputId": "34abdc31-7e65-46d2-c0ed-fa68de861c0c"
      },
      "execution_count": null,
      "outputs": [
        {
          "output_type": "execute_result",
          "data": {
            "text/plain": [
              "<tf.Tensor: shape=(), dtype=string, numpy=b'The company said dis impacted earnings by a penny a shr'>"
            ]
          },
          "metadata": {},
          "execution_count": 21
        }
      ]
    },
    {
      "cell_type": "code",
      "source": [
        "glue_mixed[\"validation\"][\"sentence2\"][0]"
      ],
      "metadata": {
        "id": "ZWk9KPSxLJ1J",
        "colab": {
          "base_uri": "https://localhost:8080/"
        },
        "outputId": "ad12afa6-4f9e-4fec-940a-73c36a9e1d19"
      },
      "execution_count": null,
      "outputs": [
        {
          "output_type": "execute_result",
          "data": {
            "text/plain": [
              "<tf.Tensor: shape=(), dtype=string, numpy=b'The company said this impacted earnings by a penny a share .'>"
            ]
          },
          "metadata": {},
          "execution_count": 22
        }
      ]
    },
    {
      "cell_type": "code",
      "source": [
        "glue_mixed[\"validation\"][\"sentence2\"][-1]"
      ],
      "metadata": {
        "colab": {
          "base_uri": "https://localhost:8080/"
        },
        "id": "35QmnZyfccaP",
        "outputId": "b59fa860-1f67-4e10-fffd-16defc13cb54"
      },
      "execution_count": null,
      "outputs": [
        {
          "output_type": "execute_result",
          "data": {
            "text/plain": [
              "<tf.Tensor: shape=(), dtype=string, numpy=b'Businessweek online haz learned tht the settlement cud cum as early as monday , may 19'>"
            ]
          },
          "metadata": {},
          "execution_count": 23
        }
      ]
    },
    {
      "cell_type": "markdown",
      "source": [
        "Encode sentences"
      ],
      "metadata": {
        "id": "FsXtCJhvVAbo"
      }
    },
    {
      "cell_type": "code",
      "source": [
        "glue_train_normal = bert_encode(glue_normal['train'], tokenizer)\n",
        "glue_train_normal_labels = glue_normal['train']['label']\n",
        "\n",
        "glue_validation_normal = bert_encode(glue_normal['validation'], tokenizer)\n",
        "glue_validation_normal_labels = glue_normal['validation']['label']\n",
        "\n",
        "glue_test_normal = bert_encode(glue_normal['test'], tokenizer)\n",
        "glue_test_normal_labels  = glue_normal['test']['label']"
      ],
      "metadata": {
        "id": "kKnlQESH-Ho4"
      },
      "execution_count": null,
      "outputs": []
    },
    {
      "cell_type": "code",
      "source": [
        "glue_train_slang = bert_encode(glue_slang['train'], tokenizer)\n",
        "glue_train_slang_labels = glue_slang['train']['label']\n",
        "\n",
        "glue_validation_slang = bert_encode(glue_slang['validation'], tokenizer)\n",
        "glue_validation_slang_labels = glue_slang['validation']['label']\n",
        "\n",
        "glue_test_slang = bert_encode(glue_slang['test'], tokenizer)\n",
        "glue_test_slang_labels  = glue_slang['test']['label']"
      ],
      "metadata": {
        "id": "czbvE_iFcw-w"
      },
      "execution_count": null,
      "outputs": []
    },
    {
      "cell_type": "code",
      "source": [
        "glue_train_mixed = bert_encode(glue_mixed['train'], tokenizer)\n",
        "glue_train_mixed_labels = glue_mixed['train']['label']\n",
        "\n",
        "glue_validation_mixed = bert_encode(glue_mixed['validation'], tokenizer)\n",
        "glue_validation_mixed_labels = glue_mixed['validation']['label']\n",
        "\n",
        "glue_test_mixed = bert_encode(glue_mixed['test'], tokenizer)\n",
        "glue_test_mixed_labels  = glue_mixed[\"test\"][\"label\"]"
      ],
      "metadata": {
        "id": "Wy87XH37cxUp"
      },
      "execution_count": null,
      "outputs": []
    },
    {
      "cell_type": "markdown",
      "source": [
        "Prepare 3 classifiers"
      ],
      "metadata": {
        "id": "kpxRIJFdVEW1"
      }
    },
    {
      "cell_type": "code",
      "source": [
        "import json\n",
        "\n",
        "bert_config_file = os.path.join(gs_folder_bert, \"bert_config.json\")\n",
        "config_dict = json.loads(tf.io.gfile.GFile(bert_config_file).read())\n",
        "\n",
        "bert_config = bert.configs.BertConfig.from_dict(config_dict)\n",
        "\n",
        "config_dict"
      ],
      "metadata": {
        "colab": {
          "base_uri": "https://localhost:8080/"
        },
        "id": "WBfAyo4K-J3V",
        "outputId": "000646ae-dfee-47a1-8a3a-498823354006"
      },
      "execution_count": null,
      "outputs": [
        {
          "output_type": "execute_result",
          "data": {
            "text/plain": [
              "{'attention_probs_dropout_prob': 0.1,\n",
              " 'hidden_act': 'gelu',\n",
              " 'hidden_dropout_prob': 0.1,\n",
              " 'hidden_size': 768,\n",
              " 'initializer_range': 0.02,\n",
              " 'intermediate_size': 3072,\n",
              " 'max_position_embeddings': 512,\n",
              " 'num_attention_heads': 12,\n",
              " 'num_hidden_layers': 12,\n",
              " 'type_vocab_size': 2,\n",
              " 'vocab_size': 30522}"
            ]
          },
          "metadata": {},
          "execution_count": 27
        }
      ]
    },
    {
      "cell_type": "code",
      "source": [
        "bert_classifier_normal, bert_encoder_normal = bert.bert_models.classifier_model(\n",
        "    bert_config, num_labels=2)"
      ],
      "metadata": {
        "id": "7gcYEwBi-Lx_"
      },
      "execution_count": null,
      "outputs": []
    },
    {
      "cell_type": "code",
      "source": [
        "bert_classifier_slang, bert_encoder_slang = bert.bert_models.classifier_model(\n",
        "    bert_config, num_labels=2)"
      ],
      "metadata": {
        "id": "aoX1VD1OdsNm"
      },
      "execution_count": null,
      "outputs": []
    },
    {
      "cell_type": "code",
      "source": [
        "bert_classifier_mixed, bert_encoder_mixed = bert.bert_models.classifier_model(\n",
        "    bert_config, num_labels=2)"
      ],
      "metadata": {
        "id": "p8s6GpMLdr2p"
      },
      "execution_count": null,
      "outputs": []
    },
    {
      "cell_type": "code",
      "source": [
        "#tf.keras.utils.plot_model(bert_classifier, show_shapes=True, dpi=48)"
      ],
      "metadata": {
        "id": "cuC3OFZe-NqX"
      },
      "execution_count": null,
      "outputs": []
    },
    {
      "cell_type": "code",
      "source": [
        "#tf.keras.utils.plot_model(bert_encoder, show_shapes=True, dpi=48)"
      ],
      "metadata": {
        "id": "AV33xbd8-Rs3"
      },
      "execution_count": null,
      "outputs": []
    },
    {
      "cell_type": "code",
      "source": [
        "# checkpoint = tf.train.Checkpoint(encoder=bert_encoder_normal)\n",
        "# checkpoint.read(\n",
        "#     os.path.join(gs_folder_bert, 'bert_model.ckpt')).assert_consumed()"
      ],
      "metadata": {
        "id": "yYeiqGqBfvXd"
      },
      "execution_count": null,
      "outputs": []
    },
    {
      "cell_type": "code",
      "source": [
        "epochs = 10\n",
        "batch_size = 32\n",
        "eval_batch_size = 32"
      ],
      "metadata": {
        "id": "hmpyPxoBkyOG"
      },
      "execution_count": null,
      "outputs": []
    },
    {
      "cell_type": "code",
      "source": [
        "# Set up epochs and steps\n",
        "train_data_size = len(glue_train_normal_labels)\n",
        "steps_per_epoch = int(train_data_size / batch_size)\n",
        "num_train_steps = steps_per_epoch * epochs\n",
        "warmup_steps = int(epochs * train_data_size * 0.1 / batch_size)\n",
        "\n",
        "# creates an optimizer with learning rate schedule\n",
        "optimizer = nlp.optimization.create_optimizer(\n",
        "    2e-5, num_train_steps=num_train_steps, num_warmup_steps=warmup_steps)\n",
        "\n",
        "metrics = [tf.keras.metrics.SparseCategoricalAccuracy('accuracy', dtype=tf.float32)]\n",
        "loss = tf.keras.losses.SparseCategoricalCrossentropy(from_logits=True)\n",
        "\n",
        "bert_classifier_normal.compile(\n",
        "    optimizer=optimizer,\n",
        "    loss=loss,\n",
        "    metrics=metrics)\n",
        "\n",
        "bert_classifier_normal.fit(\n",
        "      glue_train_normal, glue_train_normal_labels,\n",
        "      validation_data=(glue_validation_normal, glue_validation_normal_labels),\n",
        "      batch_size=32,\n",
        "      epochs=epochs)"
      ],
      "metadata": {
        "colab": {
          "base_uri": "https://localhost:8080/"
        },
        "id": "ewsFZhxE-VNR",
        "outputId": "421b0ebb-5fdf-42bd-b7c7-ec9ad2ad01f5"
      },
      "execution_count": null,
      "outputs": [
        {
          "output_type": "stream",
          "name": "stdout",
          "text": [
            "Epoch 1/10\n",
            "115/115 [==============================] - 65s 415ms/step - loss: 0.6430 - accuracy: 0.6595 - val_loss: 0.6291 - val_accuracy: 0.6838\n",
            "Epoch 2/10\n",
            "115/115 [==============================] - 46s 399ms/step - loss: 0.6296 - accuracy: 0.6712 - val_loss: 0.5992 - val_accuracy: 0.6642\n",
            "Epoch 3/10\n",
            "115/115 [==============================] - 46s 399ms/step - loss: 0.5933 - accuracy: 0.6908 - val_loss: 0.5903 - val_accuracy: 0.6838\n",
            "Epoch 4/10\n",
            "115/115 [==============================] - 46s 400ms/step - loss: 0.5470 - accuracy: 0.7135 - val_loss: 0.6099 - val_accuracy: 0.6863\n",
            "Epoch 5/10\n",
            "115/115 [==============================] - 46s 399ms/step - loss: 0.4651 - accuracy: 0.7816 - val_loss: 0.6672 - val_accuracy: 0.6838\n",
            "Epoch 6/10\n",
            "115/115 [==============================] - 46s 399ms/step - loss: 0.3906 - accuracy: 0.8274 - val_loss: 0.7230 - val_accuracy: 0.6520\n",
            "Epoch 7/10\n",
            "115/115 [==============================] - 46s 399ms/step - loss: 0.3430 - accuracy: 0.8539 - val_loss: 0.7481 - val_accuracy: 0.6863\n",
            "Epoch 8/10\n",
            "115/115 [==============================] - 46s 399ms/step - loss: 0.2809 - accuracy: 0.8855 - val_loss: 0.8071 - val_accuracy: 0.6838\n",
            "Epoch 9/10\n",
            "115/115 [==============================] - 47s 408ms/step - loss: 0.2539 - accuracy: 0.9002 - val_loss: 0.8405 - val_accuracy: 0.6912\n",
            "Epoch 10/10\n",
            "115/115 [==============================] - 46s 399ms/step - loss: 0.2084 - accuracy: 0.9174 - val_loss: 0.8667 - val_accuracy: 0.6838\n"
          ]
        },
        {
          "output_type": "execute_result",
          "data": {
            "text/plain": [
              "<keras.callbacks.History at 0x7f13ec885a10>"
            ]
          },
          "metadata": {},
          "execution_count": 35
        }
      ]
    },
    {
      "cell_type": "code",
      "source": [
        "# Set up epochs and steps\n",
        "\n",
        "train_data_size = len(glue_train_slang_labels)\n",
        "steps_per_epoch = int(train_data_size / batch_size)\n",
        "num_train_steps = steps_per_epoch * epochs\n",
        "warmup_steps = int(epochs * train_data_size * 0.1 / batch_size)\n",
        "\n",
        "# creates an optimizer with learning rate schedule\n",
        "optimizer = nlp.optimization.create_optimizer(\n",
        "    2e-5, num_train_steps=num_train_steps, num_warmup_steps=warmup_steps)\n",
        "\n",
        "metrics = [tf.keras.metrics.SparseCategoricalAccuracy('accuracy', dtype=tf.float32)]\n",
        "loss = tf.keras.losses.SparseCategoricalCrossentropy(from_logits=True)\n",
        "\n",
        "bert_classifier_slang.compile(\n",
        "    optimizer=optimizer,\n",
        "    loss=loss,\n",
        "    metrics=metrics)\n",
        "\n",
        "bert_classifier_slang.fit(\n",
        "      glue_train_slang, glue_train_slang_labels,\n",
        "      validation_data=(glue_validation_slang, glue_validation_slang_labels),\n",
        "      batch_size=32,\n",
        "      epochs=epochs)"
      ],
      "metadata": {
        "id": "IREboh4wfAF1",
        "colab": {
          "base_uri": "https://localhost:8080/"
        },
        "outputId": "b33bfcd7-33f3-415b-829b-a478123be6b6"
      },
      "execution_count": null,
      "outputs": [
        {
          "output_type": "stream",
          "name": "stdout",
          "text": [
            "Epoch 1/10\n",
            "115/115 [==============================] - 62s 427ms/step - loss: 0.6492 - accuracy: 0.6445 - val_loss: 0.6371 - val_accuracy: 0.6838\n",
            "Epoch 2/10\n",
            "115/115 [==============================] - 48s 417ms/step - loss: 0.6276 - accuracy: 0.6731 - val_loss: 0.6569 - val_accuracy: 0.6936\n",
            "Epoch 3/10\n",
            "115/115 [==============================] - 48s 417ms/step - loss: 0.5832 - accuracy: 0.6938 - val_loss: 0.6000 - val_accuracy: 0.6961\n",
            "Epoch 4/10\n",
            "115/115 [==============================] - 48s 417ms/step - loss: 0.5318 - accuracy: 0.7312 - val_loss: 0.6036 - val_accuracy: 0.6936\n",
            "Epoch 5/10\n",
            "115/115 [==============================] - 48s 417ms/step - loss: 0.4623 - accuracy: 0.7868 - val_loss: 0.8387 - val_accuracy: 0.7059\n",
            "Epoch 6/10\n",
            "115/115 [==============================] - 48s 417ms/step - loss: 0.3891 - accuracy: 0.8244 - val_loss: 0.7505 - val_accuracy: 0.6397\n",
            "Epoch 7/10\n",
            "115/115 [==============================] - 48s 417ms/step - loss: 0.3501 - accuracy: 0.8484 - val_loss: 0.8601 - val_accuracy: 0.6103\n",
            "Epoch 8/10\n",
            "115/115 [==============================] - 48s 417ms/step - loss: 0.3133 - accuracy: 0.8754 - val_loss: 0.9050 - val_accuracy: 0.6642\n",
            "Epoch 9/10\n",
            "115/115 [==============================] - 48s 417ms/step - loss: 0.2646 - accuracy: 0.8909 - val_loss: 0.9298 - val_accuracy: 0.6838\n",
            "Epoch 10/10\n",
            "115/115 [==============================] - 48s 417ms/step - loss: 0.2321 - accuracy: 0.9081 - val_loss: 0.9453 - val_accuracy: 0.6740\n"
          ]
        },
        {
          "output_type": "execute_result",
          "data": {
            "text/plain": [
              "<keras.callbacks.History at 0x7f13d9bde1d0>"
            ]
          },
          "metadata": {},
          "execution_count": 36
        }
      ]
    },
    {
      "cell_type": "code",
      "source": [
        "# Set up epochs and steps\n",
        "\n",
        "train_data_size = len(glue_train_mixed_labels)\n",
        "steps_per_epoch = int(train_data_size / batch_size)\n",
        "num_train_steps = steps_per_epoch * epochs\n",
        "warmup_steps = int(epochs * train_data_size * 0.1 / batch_size)\n",
        "\n",
        "# creates an optimizer with learning rate schedule\n",
        "optimizer = nlp.optimization.create_optimizer(\n",
        "    2e-5, num_train_steps=num_train_steps, num_warmup_steps=warmup_steps)\n",
        "\n",
        "metrics = [tf.keras.metrics.SparseCategoricalAccuracy('accuracy', dtype=tf.float32)]\n",
        "loss = tf.keras.losses.SparseCategoricalCrossentropy(from_logits=True)\n",
        "\n",
        "bert_classifier_mixed.compile(\n",
        "    optimizer=optimizer,\n",
        "    loss=loss,\n",
        "    metrics=metrics)\n",
        "\n",
        "bert_classifier_mixed.fit(\n",
        "      glue_train_mixed, glue_train_mixed_labels,\n",
        "      validation_data=(glue_validation_mixed, glue_validation_mixed_labels),\n",
        "      batch_size=32,\n",
        "      epochs=epochs)"
      ],
      "metadata": {
        "id": "TPQRMUSHe_1j",
        "colab": {
          "base_uri": "https://localhost:8080/"
        },
        "outputId": "a9947bed-3231-4a4c-9102-d3b3ab7fc01e"
      },
      "execution_count": null,
      "outputs": [
        {
          "output_type": "stream",
          "name": "stdout",
          "text": [
            "Epoch 1/10\n",
            "459/459 [==============================] - 206s 420ms/step - loss: 0.6250 - accuracy: 0.6763 - val_loss: 0.6179 - val_accuracy: 0.6679\n",
            "Epoch 2/10\n",
            "459/459 [==============================] - 191s 417ms/step - loss: 0.4313 - accuracy: 0.8040 - val_loss: 1.2171 - val_accuracy: 0.6844\n",
            "Epoch 3/10\n",
            "459/459 [==============================] - 195s 426ms/step - loss: 0.2313 - accuracy: 0.9115 - val_loss: 1.1020 - val_accuracy: 0.6691\n",
            "Epoch 4/10\n",
            "459/459 [==============================] - 192s 417ms/step - loss: 0.1590 - accuracy: 0.9462 - val_loss: 1.3673 - val_accuracy: 0.6526\n",
            "Epoch 5/10\n",
            "459/459 [==============================] - 192s 418ms/step - loss: 0.1307 - accuracy: 0.9571 - val_loss: 1.5816 - val_accuracy: 0.6268\n",
            "Epoch 6/10\n",
            "459/459 [==============================] - 192s 417ms/step - loss: 0.0950 - accuracy: 0.9737 - val_loss: 1.7858 - val_accuracy: 0.6569\n",
            "Epoch 7/10\n",
            "459/459 [==============================] - 191s 417ms/step - loss: 0.0795 - accuracy: 0.9783 - val_loss: 1.9592 - val_accuracy: 0.6501\n",
            "Epoch 8/10\n",
            "459/459 [==============================] - 191s 417ms/step - loss: 0.0572 - accuracy: 0.9866 - val_loss: 2.3565 - val_accuracy: 0.6244\n",
            "Epoch 9/10\n",
            "459/459 [==============================] - 195s 425ms/step - loss: 0.0478 - accuracy: 0.9887 - val_loss: 2.6132 - val_accuracy: 0.6195\n",
            "Epoch 10/10\n",
            "459/459 [==============================] - 195s 425ms/step - loss: 0.0312 - accuracy: 0.9925 - val_loss: 2.6003 - val_accuracy: 0.6422\n"
          ]
        },
        {
          "output_type": "execute_result",
          "data": {
            "text/plain": [
              "<keras.callbacks.History at 0x7f13da4153d0>"
            ]
          },
          "metadata": {},
          "execution_count": 37
        }
      ]
    },
    {
      "cell_type": "markdown",
      "source": [
        "Check models on all cases: normal, slang, mixed"
      ],
      "metadata": {
        "id": "JcQJiu2iVMEw"
      }
    },
    {
      "cell_type": "code",
      "source": [
        "# model_dataset"
      ],
      "metadata": {
        "id": "_9kkw94w2dB6"
      },
      "execution_count": null,
      "outputs": []
    },
    {
      "cell_type": "code",
      "source": [
        "# result_normal_normal=[bert_classifier_normal([{'input_mask':glue_validation_normal[\"input_mask\"][i:i+25] ,'input_type_ids':glue_validation_normal[\"input_type_ids\"][i:i+25],'input_word_ids':glue_validation_normal[\"input_word_ids\"][i:i+25]}], training=False) for i in range(0,len(glue_validation_normal_labels),25)]\n",
        "# result_normal_normal= tf.concat(result_normal_normal,0)\n",
        "result_normal_normal = bert_classifier_normal(glue_validation_normal)\n",
        "result_normal_normal = tf.argmax(result_normal_normal, axis = -1).numpy()\n",
        "result_normal_normal = np.mean(result_normal_normal==glue_validation_normal_labels.numpy())\n",
        "result_normal_normal"
      ],
      "metadata": {
        "id": "GABdhxl61_BD",
        "colab": {
          "base_uri": "https://localhost:8080/"
        },
        "outputId": "182feec8-9783-43a7-8aa7-6a484a497e71"
      },
      "execution_count": null,
      "outputs": [
        {
          "output_type": "execute_result",
          "data": {
            "text/plain": [
              "0.6838235294117647"
            ]
          },
          "metadata": {},
          "execution_count": 56
        }
      ]
    },
    {
      "cell_type": "code",
      "source": [
        "# result_slang_normal=[bert_classifier_slang([{'input_mask':glue_validation_normal[\"input_mask\"][i:i+25] ,'input_type_ids':glue_validation_normal[\"input_type_ids\"][i:i+25],'input_word_ids':glue_validation_normal[\"input_word_ids\"][i:i+25]}], training=False) for i in range(0,len(glue_validation_normal_labels),25)]\n",
        "# result_slang_normal=tf.concat(result_slang_normal,0)\n",
        "result_slang_normal = bert_classifier_slang(glue_validation_normal)\n",
        "result_slang_normal = tf.argmax(result_slang_normal, axis = -1).numpy()\n",
        "result_slang_normal = np.mean(result_slang_normal==glue_validation_normal_labels.numpy())\n",
        "result_slang_normal"
      ],
      "metadata": {
        "id": "mRqrlJOH2j-b",
        "colab": {
          "base_uri": "https://localhost:8080/"
        },
        "outputId": "53bf2ec5-db69-4bdb-a2af-78c5262014ad"
      },
      "execution_count": null,
      "outputs": [
        {
          "output_type": "execute_result",
          "data": {
            "text/plain": [
              "0.6911764705882353"
            ]
          },
          "metadata": {},
          "execution_count": 55
        }
      ]
    },
    {
      "cell_type": "code",
      "source": [
        "# result_mixed_normal=[bert_classifier_mixed([{'input_mask':glue_validation_normal[\"input_mask\"][i:i+25] ,'input_type_ids':glue_validation_normal[\"input_type_ids\"][i:i+25],'input_word_ids':glue_validation_normal[\"input_word_ids\"][i:i+25]}], training=False) for i in range(0,len(glue_validation_normal_labels),25)]\n",
        "# result_mixed_normal=tf.concat(result_mixed_normal,0)\n",
        "result_mixed_normal = bert_classifier_mixed(glue_validation_normal)\n",
        "result_mixed_normal = tf.argmax(result_mixed_normal, axis = -1).numpy()\n",
        "result_mixed_normal = np.mean(result_mixed_normal==glue_validation_normal_labels.numpy())\n",
        "result_mixed_normal"
      ],
      "metadata": {
        "id": "8FwvY7Ul2j2h",
        "colab": {
          "base_uri": "https://localhost:8080/"
        },
        "outputId": "da69bc01-65a3-47b3-d757-5db581e9708a"
      },
      "execution_count": null,
      "outputs": [
        {
          "output_type": "execute_result",
          "data": {
            "text/plain": [
              "0.6519607843137255"
            ]
          },
          "metadata": {},
          "execution_count": 57
        }
      ]
    },
    {
      "cell_type": "code",
      "source": [
        "# result_normal_slang=[bert_classifier_normal([{'input_mask':glue_validation_slang[\"input_mask\"][i:i+25] ,'input_type_ids':glue_validation_slang[\"input_type_ids\"][i:i+25],'input_word_ids':glue_validation_slang[\"input_word_ids\"][i:i+25]}], training=False) for i in range(0,len(glue_validation_slang_labels),25)]\n",
        "# result_normal_slang=tf.concat(result_normal_slang,0)\n",
        "result_normal_slang = bert_classifier_normal(glue_validation_slang)\n",
        "result_normal_slang = tf.argmax(result_normal_slang, axis = -1).numpy()\n",
        "result_normal_slang = np.mean(result_normal_slang==glue_validation_slang_labels.numpy())\n",
        "result_normal_slang"
      ],
      "metadata": {
        "id": "cDuTBcv_2jua",
        "colab": {
          "base_uri": "https://localhost:8080/"
        },
        "outputId": "722f6a5e-dee8-494d-84f0-8531109bf2b6"
      },
      "execution_count": null,
      "outputs": [
        {
          "output_type": "execute_result",
          "data": {
            "text/plain": [
              "0.6568627450980392"
            ]
          },
          "metadata": {},
          "execution_count": 58
        }
      ]
    },
    {
      "cell_type": "code",
      "source": [
        "# result_slang_slang=[bert_classifier_slang([{'input_mask':glue_validation_slang[\"input_mask\"][i:i+25] ,'input_type_ids':glue_validation_slang[\"input_type_ids\"][i:i+25],'input_word_ids':glue_validation_slang[\"input_word_ids\"][i:i+25]}], training=False) for i in range(0,len(glue_validation_slang_labels),25)]\n",
        "# result_slang_slang=tf.concat(result_slang_slang,0)\n",
        "result_slang_slang = bert_classifier_slang(glue_validation_slang)\n",
        "result_slang_slang = tf.argmax(result_slang_slang, axis = -1).numpy()\n",
        "result_slang_slang = np.mean(result_slang_slang==glue_validation_slang_labels.numpy())\n",
        "result_slang_slang"
      ],
      "metadata": {
        "id": "KI7A_D4t2jlW",
        "colab": {
          "base_uri": "https://localhost:8080/"
        },
        "outputId": "884a143e-2938-4117-fe56-53bb2786bf1d"
      },
      "execution_count": null,
      "outputs": [
        {
          "output_type": "execute_result",
          "data": {
            "text/plain": [
              "0.6740196078431373"
            ]
          },
          "metadata": {},
          "execution_count": 59
        }
      ]
    },
    {
      "cell_type": "code",
      "source": [
        "# result_mixed_slang=[bert_classifier_mixed([{'input_mask':glue_validation_slang[\"input_mask\"][i:i+25] ,'input_type_ids':glue_validation_slang[\"input_type_ids\"][i:i+25],'input_word_ids':glue_validation_slang[\"input_word_ids\"][i:i+25]}], training=False) for i in range(0,len(glue_validation_slang_labels),25)]\n",
        "# result_mixed_slang=tf.concat(result_mixed_slang,0)\n",
        "result_mixed_slang = bert_classifier_mixed(glue_validation_slang)\n",
        "result_mixed_slang = tf.argmax(result_mixed_slang, axis = -1).numpy()\n",
        "result_mixed_slang = np.mean(result_mixed_slang==glue_validation_slang_labels.numpy())\n",
        "result_mixed_slang"
      ],
      "metadata": {
        "id": "in-Obr3J2jXd",
        "colab": {
          "base_uri": "https://localhost:8080/"
        },
        "outputId": "cb84e8a5-3d93-4293-d1e5-156de48a056c"
      },
      "execution_count": null,
      "outputs": [
        {
          "output_type": "execute_result",
          "data": {
            "text/plain": [
              "0.6323529411764706"
            ]
          },
          "metadata": {},
          "execution_count": 60
        }
      ]
    },
    {
      "cell_type": "code",
      "source": [
        "# result_normal_mixed=[bert_classifier_normal([{'input_mask':glue_validation_mixed[\"input_mask\"][i:i+25] ,'input_type_ids':glue_validation_mixed[\"input_type_ids\"][i:i+25],'input_word_ids':glue_validation_mixed[\"input_word_ids\"][i:i+25]}], training=False) for i in range(0,len(glue_validation_mixed_labels),25)]\n",
        "# result_normal_mixed=tf.concat(result_normal_mixed,0)\n",
        "result_normal_mixed = bert_classifier_normal(glue_validation_mixed)\n",
        "result_normal_mixed = tf.argmax(result_normal_mixed, axis = -1).numpy()\n",
        "result_normal_mixed = np.mean(result_normal_mixed==glue_validation_mixed_labels.numpy())\n",
        "result_normal_mixed"
      ],
      "metadata": {
        "id": "Ngahz1vQ2jIY",
        "colab": {
          "base_uri": "https://localhost:8080/"
        },
        "outputId": "42fce177-d557-48ea-dc83-d0f93a03a5d5"
      },
      "execution_count": null,
      "outputs": [
        {
          "output_type": "execute_result",
          "data": {
            "text/plain": [
              "0.6703431372549019"
            ]
          },
          "metadata": {},
          "execution_count": 61
        }
      ]
    },
    {
      "cell_type": "code",
      "source": [
        "# result_slang_mixed=[bert_classifier_slang([{'input_mask':glue_validation_mixed[\"input_mask\"][i:i+25] ,'input_type_ids':glue_validation_mixed[\"input_type_ids\"][i:i+25],'input_word_ids':glue_validation_mixed[\"input_word_ids\"][i:i+25]}], training=False) for i in range(0,len(glue_validation_mixed_labels),25)]\n",
        "# result_slang_mixed=tf.concat(result_slang_mixed,0)\n",
        "result_slang_mixed = bert_classifier_slang(glue_validation_mixed)\n",
        "result_slang_mixed = tf.argmax(result_slang_mixed, axis = -1).numpy()\n",
        "result_slang_mixed = np.mean(result_slang_mixed==glue_validation_mixed_labels.numpy())\n",
        "result_slang_mixed"
      ],
      "metadata": {
        "id": "mgHYmrTe2nmf",
        "colab": {
          "base_uri": "https://localhost:8080/"
        },
        "outputId": "9696d680-5e4e-4c85-f8a0-bf21a97215ad"
      },
      "execution_count": null,
      "outputs": [
        {
          "output_type": "execute_result",
          "data": {
            "text/plain": [
              "0.6783088235294118"
            ]
          },
          "metadata": {},
          "execution_count": 62
        }
      ]
    },
    {
      "cell_type": "code",
      "source": [
        "# result_mixed_mixed=[bert_classifier_mixed([{'input_mask':glue_validation_mixed[\"input_mask\"][i:i+25] ,'input_type_ids':glue_validation_mixed[\"input_type_ids\"][i:i+25],'input_word_ids':glue_validation_mixed[\"input_word_ids\"][i:i+25]}], training=False) for i in range(0,len(glue_validation_mixed_labels),25)]\n",
        "# result_mixed_mixed=tf.concat(result_mixed_mixed,0)\n",
        "result_mixed_mixed = bert_classifier_mixed(glue_validation_mixed)\n",
        "result_mixed_mixed = tf.argmax(result_mixed_mixed, axis = -1).numpy()\n",
        "result_mixed_mixed = np.mean(result_mixed_mixed==glue_validation_mixed_labels.numpy())\n",
        "result_mixed_mixed"
      ],
      "metadata": {
        "id": "W-USOqPo2nVg",
        "colab": {
          "base_uri": "https://localhost:8080/"
        },
        "outputId": "9e002be7-084d-4c20-cfde-dd87d5f9c434"
      },
      "execution_count": null,
      "outputs": [
        {
          "output_type": "execute_result",
          "data": {
            "text/plain": [
              "0.6421568627450981"
            ]
          },
          "metadata": {},
          "execution_count": 64
        }
      ]
    },
    {
      "cell_type": "markdown",
      "source": [
        "Plot the results"
      ],
      "metadata": {
        "id": "Gigb82JvVVIX"
      }
    },
    {
      "cell_type": "code",
      "source": [
        "import pandas as pd\n"
      ],
      "metadata": {
        "id": "Y2oHzfwU70RX"
      },
      "execution_count": 9,
      "outputs": []
    },
    {
      "cell_type": "code",
      "source": [
        "results=pd.DataFrame({\"Accuracy\":[result_normal_normal,result_slang_normal,result_mixed_normal,result_normal_mixed,result_slang_mixed,result_mixed_mixed,result_normal_slang,result_slang_slang,result_mixed_slang],\n",
        "              \"Model\":[\"Normal\",\"Slang\",\"Mixed\",\"Normal\",\"Slang\",\"Mixed\",\"Normal\",\"Slang\",\"Mixed\"],\n",
        "              \"Test\":[\"Normal\",\"Normal\",\"Normal\",\"Mixed\",\"Mixed\",\"Mixed\",\"Slang\",\"Slang\",\"Slang\"]\n",
        "              })"
      ],
      "metadata": {
        "id": "3JQCxCqb74Er"
      },
      "execution_count": null,
      "outputs": []
    },
    {
      "cell_type": "code",
      "source": [
        "import seaborn as sns"
      ],
      "metadata": {
        "id": "R8Uq0KvF9NVO"
      },
      "execution_count": 10,
      "outputs": []
    },
    {
      "cell_type": "code",
      "source": [
        "plt.rcParams.update({'font.size': 25})\n",
        "plt.figure(figsize=(20,10))\n",
        "sns.lineplot(data=results,x=\"Test\",y=\"Accuracy\",hue=\"Model\")"
      ],
      "metadata": {
        "id": "dLea6vjX9QlD",
        "colab": {
          "base_uri": "https://localhost:8080/",
          "height": 651
        },
        "outputId": "7f1fbe85-92d0-47b7-c796-363cf0accde1"
      },
      "execution_count": null,
      "outputs": [
        {
          "output_type": "execute_result",
          "data": {
            "text/plain": [
              "<matplotlib.axes._subplots.AxesSubplot at 0x7f13d1f89e10>"
            ]
          },
          "metadata": {},
          "execution_count": 84
        },
        {
          "output_type": "display_data",
          "data": {
            "text/plain": [
              "<Figure size 1440x720 with 1 Axes>"
            ],
            "image/png": "[encoded data removed]"
          },
          "metadata": {
            "needs_background": "light"
          }
        }
      ]
    },
    {
      "cell_type": "code",
      "source": [
        "export_dir='./saved_model'\n",
        "tf.saved_model.save(bert_classifier_normal, export_dir=export_dir)"
      ],
      "metadata": {
        "id": "Ww6-L34A-ilS",
        "colab": {
          "base_uri": "https://localhost:8080/"
        },
        "outputId": "8e0e6c87-42ab-4700-ded0-c8bc37048c6e"
      },
      "execution_count": null,
      "outputs": [
        {
          "output_type": "stream",
          "name": "stderr",
          "text": [
            "WARNING:absl:Found untraced functions such as self_attention_layer_call_fn, self_attention_layer_call_and_return_conditional_losses, dropout_layer_call_fn, dropout_layer_call_and_return_conditional_losses, self_attention_layer_norm_layer_call_fn while saving (showing 5 of 360). These functions will not be directly callable after loading.\n"
          ]
        },
        {
          "output_type": "stream",
          "name": "stdout",
          "text": [
            "INFO:tensorflow:Assets written to: ./saved_model/assets\n"
          ]
        },
        {
          "output_type": "stream",
          "name": "stderr",
          "text": [
            "INFO:tensorflow:Assets written to: ./saved_model/assets\n"
          ]
        }
      ]
    },
    {
      "cell_type": "code",
      "source": [
        "export_dir='./saved_model'\n",
        "tf.saved_model.save(bert_classifier_slang, export_dir=export_dir)"
      ],
      "metadata": {
        "id": "GiQneo2EgPPk",
        "colab": {
          "base_uri": "https://localhost:8080/"
        },
        "outputId": "8bfa9051-bd9f-4550-c930-5d49527bc7b9"
      },
      "execution_count": null,
      "outputs": [
        {
          "output_type": "stream",
          "name": "stderr",
          "text": [
            "WARNING:absl:Found untraced functions such as self_attention_layer_call_fn, self_attention_layer_call_and_return_conditional_losses, dropout_layer_call_fn, dropout_layer_call_and_return_conditional_losses, self_attention_layer_norm_layer_call_fn while saving (showing 5 of 360). These functions will not be directly callable after loading.\n"
          ]
        },
        {
          "output_type": "stream",
          "name": "stdout",
          "text": [
            "INFO:tensorflow:Assets written to: ./saved_model/assets\n"
          ]
        },
        {
          "output_type": "stream",
          "name": "stderr",
          "text": [
            "INFO:tensorflow:Assets written to: ./saved_model/assets\n"
          ]
        }
      ]
    },
    {
      "cell_type": "code",
      "source": [
        "export_dir='./saved_model'\n",
        "tf.saved_model.save(bert_classifier_mixed, export_dir=export_dir)"
      ],
      "metadata": {
        "id": "pdVOGGECgRO1",
        "colab": {
          "base_uri": "https://localhost:8080/"
        },
        "outputId": "3e4682b5-71a7-48ec-b64a-9f617c62d5af"
      },
      "execution_count": null,
      "outputs": [
        {
          "output_type": "stream",
          "name": "stderr",
          "text": [
            "WARNING:absl:Found untraced functions such as self_attention_layer_call_fn, self_attention_layer_call_and_return_conditional_losses, dropout_layer_call_fn, dropout_layer_call_and_return_conditional_losses, self_attention_layer_norm_layer_call_fn while saving (showing 5 of 360). These functions will not be directly callable after loading.\n"
          ]
        },
        {
          "output_type": "stream",
          "name": "stdout",
          "text": [
            "INFO:tensorflow:Assets written to: ./saved_model/assets\n"
          ]
        },
        {
          "output_type": "stream",
          "name": "stderr",
          "text": [
            "INFO:tensorflow:Assets written to: ./saved_model/assets\n"
          ]
        }
      ]
    },
    {
      "cell_type": "code",
      "source": [
        "df1={\"loss_train\":[0.6430,0.6296,0.5933,0.5470,0.4651,0.3906,0.3430,0.2809,0.2539,0.2084],\"loss_validation\":[0.6291,0.5992,0.5903,0.6099,0.6672,0.7230,0.7481,0.8071,0.8405,0.8667],\"accuracy_train\":[0.6595,0.6712,0.6908,0.7135,0.7816,0.8274,0.8539,0.8855,0.9002,0.9174],\"accuracy_test\":[0.6838,0.6642,0.6838,0.6863,0.6838,0.6520,0.6863,0.6838,0.6912,0.6838],\"Model\":[\"Normal\",\"Normal\",\"Normal\",\"Normal\",\"Normal\",\"Normal\",\"Normal\",\"Normal\",\"Normal\",\"Normal\"]}"
      ],
      "metadata": {
        "id": "zamgiSWt2q3y"
      },
      "execution_count": 5,
      "outputs": []
    },
    {
      "cell_type": "code",
      "source": [
        "df2={\"loss_train\":[0.6492,0.6276,0.5832,0.5318,0.4623,0.3891,0.3501,0.3133,0.2646,0.2321],\"loss_validation\":[0.6371,0.6569,0.6000,0.6036,0.8387,0.7505,0.8601,0.9050,0.9298,0.9453],\"accuracy_train\":[0.6445,0.6731,0.6938,0.7312,0.7868,0.8244,0.8484,0.8754,0.8909,0.9081],\"accuracy_test\":[0.6838,0.6936,0.6961,0.6936,0.7059,0.6397,0.6103,0.6642,0.6838,0.6740],\"Model\":[\"Slang\",\"Slang\",\"Slang\",\"Slang\",\"Slang\",\"Slang\",\"Slang\",\"Slang\",\"Slang\",\"Slang\"]}"
      ],
      "metadata": {
        "id": "VRFVpwNNBDme"
      },
      "execution_count": 6,
      "outputs": []
    },
    {
      "cell_type": "code",
      "source": [
        "df3={\"loss_train\":[0.6250,0.4313,0.2313,0.1590,0.1307,0.0950,0.0795,0.0572,0.0478,0.0312],\"loss_validation\":[0.6179,1.2171,1.1020,1.3673,1.5816,1.7858,1.9592,2.3565,2.6132,2.6003],\"accuracy_train\":[0.6763,0.8040,0.9115,0.9462,0.9571,0.9737,0.9783,0.9866,0.9887,0.9925],\"accuracy_test\":[0.6679,0.6844,0.6691,0.6526,0.6268,0.6569,0.6501,0.6244,0.6195,0.6422],\"Model\":[\"Mixed\",\"Mixed\",\"Mixed\",\"Mixed\",\"Mixed\",\"Mixed\",\"Mixed\",\"Mixed\",\"Mixed\",\"Mixed\"]}"
      ],
      "metadata": {
        "id": "j69n5wb_BD8I"
      },
      "execution_count": 7,
      "outputs": []
    },
    {
      "cell_type": "code",
      "source": [
        "df1=pd.DataFrame(df1)\n",
        "df2=pd.DataFrame(df2)\n",
        "df3=pd.DataFrame(df3)"
      ],
      "metadata": {
        "id": "3_5Bi3VvBEOU"
      },
      "execution_count": 27,
      "outputs": []
    },
    {
      "cell_type": "code",
      "source": [
        "df1[\"Epoch\"]=range(10)\n",
        "df2[\"Epoch\"]=range(10)\n",
        "df3[\"Epoch\"]=range(10)"
      ],
      "metadata": {
        "id": "1vpNyy5rKy3H"
      },
      "execution_count": 28,
      "outputs": []
    },
    {
      "cell_type": "code",
      "source": [
        "df=pd.concat([df1,df2,df3])"
      ],
      "metadata": {
        "id": "6cqJngSwJv-_"
      },
      "execution_count": 29,
      "outputs": []
    },
    {
      "cell_type": "code",
      "source": [
        "df4=pd.melt(df,id_vars=[\"Model\",\"Epoch\"])"
      ],
      "metadata": {
        "id": "UXZcOHN4J6NR"
      },
      "execution_count": 30,
      "outputs": []
    },
    {
      "cell_type": "code",
      "source": [
        "df4"
      ],
      "metadata": {
        "colab": {
          "base_uri": "https://localhost:8080/",
          "height": 424
        },
        "id": "UIid6KxoKnb4",
        "outputId": "34c70005-bd76-49ab-97f1-6cd27720f94a"
      },
      "execution_count": 31,
      "outputs": [
        {
          "output_type": "execute_result",
          "data": {
            "text/plain": [
              "      Model  Epoch       variable   value\n",
              "0    Normal      0     loss_train  0.6430\n",
              "1    Normal      1     loss_train  0.6296\n",
              "2    Normal      2     loss_train  0.5933\n",
              "3    Normal      3     loss_train  0.5470\n",
              "4    Normal      4     loss_train  0.4651\n",
              "..      ...    ...            ...     ...\n",
              "115   Mixed      5  accuracy_test  0.6569\n",
              "116   Mixed      6  accuracy_test  0.6501\n",
              "117   Mixed      7  accuracy_test  0.6244\n",
              "118   Mixed      8  accuracy_test  0.6195\n",
              "119   Mixed      9  accuracy_test  0.6422\n",
              "\n",
              "[120 rows x 4 columns]"
            ],
            "text/html": [
              "\n",
              "  <div id=\"df-5884e847-c671-4921-a993-b78ae853c7d8\">\n",
              "    <div class=\"colab-df-container\">\n",
              "      <div>\n",
              "<style scoped>\n",
              "    .dataframe tbody tr th:only-of-type {\n",
              "        vertical-align: middle;\n",
              "    }\n",
              "\n",
              "    .dataframe tbody tr th {\n",
              "        vertical-align: top;\n",
              "    }\n",
              "\n",
              "    .dataframe thead th {\n",
              "        text-align: right;\n",
              "    }\n",
              "</style>\n",
              "<table border=\"1\" class=\"dataframe\">\n",
              "  <thead>\n",
              "    <tr style=\"text-align: right;\">\n",
              "      <th></th>\n",
              "      <th>Model</th>\n",
              "      <th>Epoch</th>\n",
              "      <th>variable</th>\n",
              "      <th>value</th>\n",
              "    </tr>\n",
              "  </thead>\n",
              "  <tbody>\n",
              "    <tr>\n",
              "      <th>0</th>\n",
              "      <td>Normal</td>\n",
              "      <td>0</td>\n",
              "      <td>loss_train</td>\n",
              "      <td>0.6430</td>\n",
              "    </tr>\n",
              "    <tr>\n",
              "      <th>1</th>\n",
              "      <td>Normal</td>\n",
              "      <td>1</td>\n",
              "      <td>loss_train</td>\n",
              "      <td>0.6296</td>\n",
              "    </tr>\n",
              "    <tr>\n",
              "      <th>2</th>\n",
              "      <td>Normal</td>\n",
              "      <td>2</td>\n",
              "      <td>loss_train</td>\n",
              "      <td>0.5933</td>\n",
              "    </tr>\n",
              "    <tr>\n",
              "      <th>3</th>\n",
              "      <td>Normal</td>\n",
              "      <td>3</td>\n",
              "      <td>loss_train</td>\n",
              "      <td>0.5470</td>\n",
              "    </tr>\n",
              "    <tr>\n",
              "      <th>4</th>\n",
              "      <td>Normal</td>\n",
              "      <td>4</td>\n",
              "      <td>loss_train</td>\n",
              "      <td>0.4651</td>\n",
              "    </tr>\n",
              "    <tr>\n",
              "      <th>...</th>\n",
              "      <td>...</td>\n",
              "      <td>...</td>\n",
              "      <td>...</td>\n",
              "      <td>...</td>\n",
              "    </tr>\n",
              "    <tr>\n",
              "      <th>115</th>\n",
              "      <td>Mixed</td>\n",
              "      <td>5</td>\n",
              "      <td>accuracy_test</td>\n",
              "      <td>0.6569</td>\n",
              "    </tr>\n",
              "    <tr>\n",
              "      <th>116</th>\n",
              "      <td>Mixed</td>\n",
              "      <td>6</td>\n",
              "      <td>accuracy_test</td>\n",
              "      <td>0.6501</td>\n",
              "    </tr>\n",
              "    <tr>\n",
              "      <th>117</th>\n",
              "      <td>Mixed</td>\n",
              "      <td>7</td>\n",
              "      <td>accuracy_test</td>\n",
              "      <td>0.6244</td>\n",
              "    </tr>\n",
              "    <tr>\n",
              "      <th>118</th>\n",
              "      <td>Mixed</td>\n",
              "      <td>8</td>\n",
              "      <td>accuracy_test</td>\n",
              "      <td>0.6195</td>\n",
              "    </tr>\n",
              "    <tr>\n",
              "      <th>119</th>\n",
              "      <td>Mixed</td>\n",
              "      <td>9</td>\n",
              "      <td>accuracy_test</td>\n",
              "      <td>0.6422</td>\n",
              "    </tr>\n",
              "  </tbody>\n",
              "</table>\n",
              "<p>120 rows × 4 columns</p>\n",
              "</div>\n",
              "      <button class=\"colab-df-convert\" onclick=\"convertToInteractive('df-5884e847-c671-4921-a993-b78ae853c7d8')\"\n",
              "              title=\"Convert this dataframe to an interactive table.\"\n",
              "              style=\"display:none;\">\n",
              "        \n",
              "  <svg xmlns=\"http://www.w3.org/2000/svg\" height=\"24px\"viewBox=\"0 0 24 24\"\n",
              "       width=\"24px\">\n",
              "    <path d=\"M0 0h24v24H0V0z\" fill=\"none\"/>\n",
              "    <path d=\"M18.56 5.44l.94 2.06.94-2.06 2.06-.94-2.06-.94-.94-2.06-.94 2.06-2.06.94zm-11 1L8.5 8.5l.94-2.06 2.06-.94-2.06-.94L8.5 2.5l-.94 2.06-2.06.94zm10 10l.94 2.06.94-2.06 2.06-.94-2.06-.94-.94-2.06-.94 2.06-2.06.94z\"/><path d=\"M17.41 7.96l-1.37-1.37c-.4-.4-.92-.59-1.43-.59-.52 0-1.04.2-1.43.59L10.3 9.45l-7.72 7.72c-.78.78-.78 2.05 0 2.83L4 21.41c.39.39.9.59 1.41.59.51 0 1.02-.2 1.41-.59l7.78-7.78 2.81-2.81c.8-.78.8-2.07 0-2.86zM5.41 20L4 18.59l7.72-7.72 1.47 1.35L5.41 20z\"/>\n",
              "  </svg>\n",
              "      </button>\n",
              "      \n",
              "  <style>\n",
              "    .colab-df-container {\n",
              "      display:flex;\n",
              "      flex-wrap:wrap;\n",
              "      gap: 12px;\n",
              "    }\n",
              "\n",
              "    .colab-df-convert {\n",
              "      background-color: #E8F0FE;\n",
              "      border: none;\n",
              "      border-radius: 50%;\n",
              "      cursor: pointer;\n",
              "      display: none;\n",
              "      fill: #1967D2;\n",
              "      height: 32px;\n",
              "      padding: 0 0 0 0;\n",
              "      width: 32px;\n",
              "    }\n",
              "\n",
              "    .colab-df-convert:hover {\n",
              "      background-color: #E2EBFA;\n",
              "      box-shadow: 0px 1px 2px rgba(60, 64, 67, 0.3), 0px 1px 3px 1px rgba(60, 64, 67, 0.15);\n",
              "      fill: #174EA6;\n",
              "    }\n",
              "\n",
              "    [theme=dark] .colab-df-convert {\n",
              "      background-color: #3B4455;\n",
              "      fill: #D2E3FC;\n",
              "    }\n",
              "\n",
              "    [theme=dark] .colab-df-convert:hover {\n",
              "      background-color: #434B5C;\n",
              "      box-shadow: 0px 1px 3px 1px rgba(0, 0, 0, 0.15);\n",
              "      filter: drop-shadow(0px 1px 2px rgba(0, 0, 0, 0.3));\n",
              "      fill: #FFFFFF;\n",
              "    }\n",
              "  </style>\n",
              "\n",
              "      <script>\n",
              "        const buttonEl =\n",
              "          document.querySelector('#df-5884e847-c671-4921-a993-b78ae853c7d8 button.colab-df-convert');\n",
              "        buttonEl.style.display =\n",
              "          google.colab.kernel.accessAllowed ? 'block' : 'none';\n",
              "\n",
              "        async function convertToInteractive(key) {\n",
              "          const element = document.querySelector('#df-5884e847-c671-4921-a993-b78ae853c7d8');\n",
              "          const dataTable =\n",
              "            await google.colab.kernel.invokeFunction('convertToInteractive',\n",
              "                                                     [key], {});\n",
              "          if (!dataTable) return;\n",
              "\n",
              "          const docLinkHtml = 'Like what you see? Visit the ' +\n",
              "            '<a target=\"_blank\" href=https://colab.research.google.com/notebooks/data_table.ipynb>data table notebook</a>'\n",
              "            + ' to learn more about interactive tables.';\n",
              "          element.innerHTML = '';\n",
              "          dataTable['output_type'] = 'display_data';\n",
              "          await google.colab.output.renderOutput(dataTable, element);\n",
              "          const docLink = document.createElement('div');\n",
              "          docLink.innerHTML = docLinkHtml;\n",
              "          element.appendChild(docLink);\n",
              "        }\n",
              "      </script>\n",
              "    </div>\n",
              "  </div>\n",
              "  "
            ]
          },
          "metadata": {},
          "execution_count": 31
        }
      ]
    },
    {
      "cell_type": "code",
      "source": [
        "import matplotlib.pyplot as plt"
      ],
      "metadata": {
        "id": "9tdgGSaaMGJa"
      },
      "execution_count": 33,
      "outputs": []
    },
    {
      "cell_type": "code",
      "source": [
        "plt.rcParams.update({'font.size': 15})\n",
        "plt.figure(figsize=(20,16))\n",
        "sns.relplot(data=df4,x=\"Epoch\",y=\"value\",hue=\"variable\",col=\"Model\",kind=\"line\")"
      ],
      "metadata": {
        "colab": {
          "base_uri": "https://localhost:8080/",
          "height": 393
        },
        "id": "SXZXpUcUJral",
        "outputId": "a23181eb-2cad-40a5-cce4-ffed8ab9a7ea"
      },
      "execution_count": 38,
      "outputs": [
        {
          "output_type": "execute_result",
          "data": {
            "text/plain": [
              "<seaborn.axisgrid.FacetGrid at 0x7f6eb4a641d0>"
            ]
          },
          "metadata": {},
          "execution_count": 38
        },
        {
          "output_type": "display_data",
          "data": {
            "text/plain": [
              "<Figure size 1440x1152 with 0 Axes>"
            ]
          },
          "metadata": {}
        },
        {
          "output_type": "display_data",
          "data": {
            "text/plain": [
              "<Figure size 1245.25x360 with 3 Axes>"
            ],
            "image/png": "[encoded data removed]"
          },
          "metadata": {
            "needs_background": "light"
          }
        }
      ]
    },
    {
      "cell_type": "code",
      "source": [
        ""
      ],
      "metadata": {
        "id": "EQ0AoRZTMD6v"
      },
      "execution_count": null,
      "outputs": []
    }
  ]
}